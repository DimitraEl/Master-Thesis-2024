{
 "cells": [
  {
   "cell_type": "code",
   "execution_count": null,
   "id": "9e2c5a9e-d022-47ed-8314-3c0de01bc8bd",
   "metadata": {},
   "outputs": [],
   "source": [
    "import pandas as pd\n",
    "\n",
    "metadata = pd.read_csv(\"sample_info.csv\")\n",
    "\n",
    "drug_sensitivity = pd.read_excel(\"GDSC2_fitted_dose_response_25Feb20.xlsx\")"
   ]
  },
  {
   "cell_type": "code",
   "execution_count": null,
   "id": "816831f8-6770-4a8b-8aba-ade8f399ad4b",
   "metadata": {},
   "outputs": [],
   "source": [
    "expression_data = pd.read_csv('CCLE_expression.csv', header=0)\n",
    "expression_data.columns.values[0] = 'DEPMAP_ID' "
   ]
  },
  {
   "cell_type": "code",
   "execution_count": null,
   "id": "e341b181-b060-435a-b3f8-4fa7c3ed7821",
   "metadata": {},
   "outputs": [],
   "source": [
    "expression_data.columns = expression_data.columns.str.upper()\n",
    "metadata.columns = sample_info.columns.str.upper()\n",
    "drug_sensitivity.columns = drug_sensitivity.columns.str.upper()"
   ]
  },
  {
   "cell_type": "code",
   "execution_count": null,
   "id": "bbebfefa-511a-452b-aca5-da3ce8c3565a",
   "metadata": {},
   "outputs": [],
   "source": [
    "metadata.shape\n"
   ]
  },
  {
   "cell_type": "code",
   "execution_count": null,
   "id": "9a19dd0b-871f-4836-8221-3ad89d2653bd",
   "metadata": {},
   "outputs": [],
   "source": [
    "metadata"
   ]
  },
  {
   "cell_type": "code",
   "execution_count": null,
   "id": "c62516df-9ea8-4e9e-a06f-aa863fc8ca41",
   "metadata": {},
   "outputs": [],
   "source": [
    "# Count the total number of cell lines\n",
    "total_cell_lines = metadata[\"CELL_LINE_NAME\"].shape[0]\n",
    "\n",
    "# Count the unique number of cell lines\n",
    "unique_cell_lines = metadata[\"CELL_LINE_NAME\"].nunique()\n"
   ]
  },
  {
   "cell_type": "code",
   "execution_count": null,
   "id": "1b656dee-0427-416d-83bb-44c3eafecb38",
   "metadata": {},
   "outputs": [],
   "source": [
    "total_cell_lines"
   ]
  },
  {
   "cell_type": "code",
   "execution_count": null,
   "id": "a73dccc5-612f-4fe9-9ead-050f680cd48d",
   "metadata": {},
   "outputs": [],
   "source": [
    "unique_cell_lines"
   ]
  },
  {
   "cell_type": "code",
   "execution_count": null,
   "id": "1df17c17-3628-46e8-8126-f7c8119d65bc",
   "metadata": {},
   "outputs": [],
   "source": [
    "sample_site_df = metadata[\"SAMPLE_COLLECTION_SITE\"].unique()\n",
    "sample_site_df_count = sample_site_df.shape[0]\n",
    "sample_sites = pd.Series(sample_site_df).tolist()"
   ]
  },
  {
   "cell_type": "code",
   "execution_count": null,
   "id": "3ef038d2-0da5-4435-b295-763730c858ee",
   "metadata": {},
   "outputs": [],
   "source": [
    "sample_sites\n"
   ]
  },
  {
   "cell_type": "code",
   "execution_count": null,
   "id": "d47de462-c07d-4ba9-a783-c37c85457213",
   "metadata": {},
   "outputs": [],
   "source": [
    "primary_diseasedf = metadata[\"PRIMARY_DISEASE\"].unique()\n",
    "primary_diseasedf_count = primary_diseasedf.shape[0]\n",
    "primary_diseases = pd.Series(primary_diseasedf).tolist()"
   ]
  },
  {
   "cell_type": "code",
   "execution_count": null,
   "id": "c8abb18e-c6f3-4aa2-a260-befc233f359d",
   "metadata": {},
   "outputs": [],
   "source": [
    "primary_diseasedf_count"
   ]
  },
  {
   "cell_type": "code",
   "execution_count": null,
   "id": "9ae3d13f-bddb-4e3d-96db-d527a11d3791",
   "metadata": {},
   "outputs": [],
   "source": [
    "primary_cancer_samples = metadata['PRIMARY_OR_METASTASIS'] == 'Primary'"
   ]
  },
  {
   "cell_type": "code",
   "execution_count": null,
   "id": "bb68da67-9ee8-46a1-8873-1beae2d8c21a",
   "metadata": {},
   "outputs": [],
   "source": [
    "metastatic_cancer_samples = metadata['PRIMARY_OR_METASTASIS'] == 'Metastasis'"
   ]
  },
  {
   "cell_type": "code",
   "execution_count": null,
   "id": "df3816be-a8c2-4b05-8ec6-21eb67c34f2a",
   "metadata": {},
   "outputs": [],
   "source": [
    "count_samples = metadata['PRIMARY_OR_METASTASIS'].value_counts()"
   ]
  },
  {
   "cell_type": "code",
   "execution_count": null,
   "id": "2871c00b-1868-486e-9f9e-d77c20ac434a",
   "metadata": {},
   "outputs": [],
   "source": [
    "count_samples"
   ]
  },
  {
   "cell_type": "code",
   "execution_count": null,
   "id": "ae6c865a-7152-4ffd-a749-a6f9a89e6444",
   "metadata": {},
   "outputs": [],
   "source": [
    "gender = metadata['SEX'].value_counts()"
   ]
  },
  {
   "cell_type": "code",
   "execution_count": null,
   "id": "0098f56f-c08d-47e6-9356-320c033347b4",
   "metadata": {},
   "outputs": [],
   "source": [
    "gender"
   ]
  },
  {
   "cell_type": "code",
   "execution_count": null,
   "id": "edb33e6c-9cb1-4c50-8803-823a7e1dc148",
   "metadata": {},
   "outputs": [],
   "source": [
    "males = gender['Male']\n",
    "females = gender['Female']\n",
    "unknowngender = ['Unknown']"
   ]
  },
  {
   "cell_type": "code",
   "execution_count": null,
   "id": "e145866c-6e64-4b0f-b452-2fb4ee696464",
   "metadata": {},
   "outputs": [],
   "source": [
    "age_bins = [0, 10, 20, 30, 40, 50, 60, 70, 80, 120]  # Upper limit set to 120 to cover ages >80\n",
    "age_labels = ['1-10', '11-20', '21-30', '31-40', '41-50', '51-60', '61-70', '71-80', '>80']\n",
    "metadata['AGE_GROUP'] = pd.cut(metadata['AGE'], bins=age_bins, labels=age_labels, right=True)"
   ]
  },
  {
   "cell_type": "code",
   "execution_count": null,
   "id": "6915b69d-20bf-410b-a706-318804af2582",
   "metadata": {},
   "outputs": [],
   "source": [
    "age_group_counts = metadata['AGE_GROUP'].value_counts().sort_index()"
   ]
  },
  {
   "cell_type": "code",
   "execution_count": null,
   "id": "42e7ced4-c3cc-4f31-ab63-f34d3ebeeefc",
   "metadata": {},
   "outputs": [],
   "source": [
    "age_group_counts"
   ]
  },
  {
   "cell_type": "raw",
   "id": "03394e66-f99e-40fa-9441-e9c03ece89d0",
   "metadata": {},
   "source": []
  },
  {
   "cell_type": "code",
   "execution_count": null,
   "id": "2705625e-ac75-464b-8f18-e1e2443519d2",
   "metadata": {},
   "outputs": [],
   "source": []
  },
  {
   "cell_type": "code",
   "execution_count": null,
   "id": "39efd470-cfee-4f3e-87f3-1c35b23ad442",
   "metadata": {},
   "outputs": [],
   "source": []
  },
  {
   "cell_type": "code",
   "execution_count": null,
   "id": "517f78d6-70f0-462b-a243-c1162d72a406",
   "metadata": {},
   "outputs": [],
   "source": []
  },
  {
   "cell_type": "code",
   "execution_count": null,
   "id": "476fb9e8-7ccc-4273-a132-3bbec6fc523d",
   "metadata": {},
   "outputs": [],
   "source": []
  },
  {
   "cell_type": "code",
   "execution_count": null,
   "id": "a47d8a5b-9934-4875-b2c0-1d0af25f7d2e",
   "metadata": {},
   "outputs": [],
   "source": []
  }
 ],
 "metadata": {
  "kernelspec": {
   "display_name": "Python 3 (ipykernel)",
   "language": "python",
   "name": "python3"
  },
  "language_info": {
   "codemirror_mode": {
    "name": "ipython",
    "version": 3
   },
   "file_extension": ".py",
   "mimetype": "text/x-python",
   "name": "python",
   "nbconvert_exporter": "python",
   "pygments_lexer": "ipython3",
   "version": "3.11.5"
  }
 },
 "nbformat": 4,
 "nbformat_minor": 5
}
